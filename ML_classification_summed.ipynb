{
 "cells": [
  {
   "cell_type": "markdown",
   "id": "e0dfcbc2",
   "metadata": {
    "tags": []
   },
   "source": [
    "### Imports"
   ]
  },
  {
   "cell_type": "markdown",
   "id": "4b4c7497-dc27-46c0-816d-1b405cb21b4c",
   "metadata": {},
   "source": [
    "This code was originally written by Jack Gourdeau, and modified for use in this project (Dartmouth College).\n",
    "Physicochemical properties table from Kogay et al. 2019 Table S7 and originally in Kaundal et al. 2013.\n",
    "\n",
    "Kogay, R., Neely, T. B., Birnbaum, D. P., Hankel, C. R., Shakya, M., & Zhaxybayeva, O. (2019). Machine-Learning Classification Suggests That Many Alphaproteobacterial Prophages May Instead Be Gene Transfer Agents. Genome Biology and Evolution, 11(10), 2941–2953. https://doi.org/10.1093/gbe/evz206\n",
    "\n",
    "Kaundal, R., Sahu, S. S., Verma, R., & Weirick, T. (2013). Identification and characterization of plastid-type proteins from sequence-attributed features using machine learning. BMC Bioinformatics, 14(14), S7. https://doi.org/10.1186/1471-2105-14-S14-S7\n"
   ]
  },
  {
   "cell_type": "code",
   "execution_count": 2,
   "id": "53ed56d6",
   "metadata": {},
   "outputs": [],
   "source": [
    "# prevent depreciation warnings\n",
    "import warnings\n",
    "warnings.filterwarnings(\"ignore\", category=DeprecationWarning)\n",
    "from Bio import SeqIO\n",
    "from Bio.SeqIO.FastaIO import SimpleFastaParser\n",
    "from sklearn.feature_extraction.text import CountVectorizer\n",
    "from sklearn.model_selection import train_test_split\n",
    "from sklearn.metrics import accuracy_score, f1_score, precision_score, recall_score\n",
    "from sklearn.naive_bayes import MultinomialNB\n",
    "from sklearn.model_selection import cross_val_score\n",
    "from sklearn.svm import SVC\n",
    "import pandas as pd\n",
    "import numpy as np\n",
    "import os"
   ]
  },
  {
   "cell_type": "code",
   "execution_count": 3,
   "id": "60a8e9ae-d0e8-4047-859e-00c224b31629",
   "metadata": {},
   "outputs": [],
   "source": [
    "outputs = '/global/cfs/cdirs/m342/lblum/hotsprings_metaG/jupyter_notebooks/outputs/grs_fam_0921/'\n",
    "#output folder\n",
    "\n",
    "#tree = '/global/cfs/cdirs/m342/lblum/hotsprings_metaG/trees/bin_hits_400_0921/bin_hits_tree.fasta'\n",
    "tree = '/global/cfs/cdirs/m342/lblum/hotsprings_metaG/trees/gene_hits_400_0921/gene_hits_tree.fasta'\n",
    "\n",
    "#Fasta file of grs sequences to pull identifiers\n",
    "\n",
    "physico_props = '/global/cfs/cdirs/m342/lblum/hotsprings_metaG/metadata/Table_S7.csv'\n",
    "#Table of physicochemical properties for amino acids\n",
    "\n",
    "grsA_group = '/global/cfs/cdirs/m342/lblum/hotsprings_metaG/metadata/grsA_relatives-40.txt'\n",
    "grsB_group = '/global/cfs/cdirs/m342/lblum/hotsprings_metaG/metadata/grsB_relatives-39.txt'\n",
    "#text files with identifiers of closer relatives of grsA and grsB type proteins (100% bootstrap values)\n",
    "#For the purposes of this code, the \"grsB\" group is just used to define anything \"not grsA.\" "
   ]
  },
  {
   "cell_type": "markdown",
   "id": "bf9c98fd",
   "metadata": {},
   "source": [
    "### Dataframe Creation\n"
   ]
  },
  {
   "cell_type": "code",
   "execution_count": 4,
   "id": "8dccd149-0f2a-4275-822a-b349bfda859c",
   "metadata": {},
   "outputs": [],
   "source": [
    "with open(tree) as fasta_file:  \n",
    "    identifiers = []\n",
    "    for title, sequence in SimpleFastaParser(fasta_file):\n",
    "        identifiers.append(title.split(None, 1)[0])  # First word is ID"
   ]
  },
  {
   "cell_type": "code",
   "execution_count": 5,
   "id": "026b03ea-710b-4c1b-b753-d176a8587350",
   "metadata": {},
   "outputs": [],
   "source": [
    "Alist = []\n",
    "Blist = []\n",
    "#Sequence fasta file used for tree\n",
    "with open(grsA_group) as infileA:     \n",
    "    for line in infileA: \n",
    "        Alist.append(line.strip().replace(\" \",\"_\"))\n",
    "with open(grsB_group) as infileB:     \n",
    "    for line in infileB: \n",
    "        Blist.append(line.strip().replace(\" \",\"_\"))\n",
    "\n",
    "# read in the physicochemical properties (supplemental table 7 from Kogay et. al)\n",
    "properties = pd.read_csv(physico_props).dropna()\n",
    "properties['index_position'] = properties.index"
   ]
  },
  {
   "cell_type": "markdown",
   "id": "df9f224b",
   "metadata": {},
   "source": [
    "- Read in the sequences and collect properties to sum"
   ]
  },
  {
   "cell_type": "code",
   "execution_count": 6,
   "id": "7465c9b5",
   "metadata": {},
   "outputs": [],
   "source": [
    "# to get the properties of each Amino Acid\n",
    "def get_properties(sequence):\n",
    "    \n",
    "    properties_agg = []\n",
    "    for AA in sequence: \n",
    "        # each AA has its own set of properties\n",
    "        indiv_prop = [0]*len(list(properties['Physicochemical property']))\n",
    "        # print(indiv_prop)\n",
    "\n",
    "        ones = list(properties[properties['Amino acids'].str.contains(str(AA))]['index_position'])\n",
    "        for ind in ones:\n",
    "            indiv_prop[ind] = 1\n",
    "        \n",
    "        properties_agg.append(indiv_prop)\n",
    "        \n",
    "        # sum up the individual amino acid characteristics \n",
    "        summed = list(np.sum(properties_agg, axis=0))\n",
    "        \n",
    "        string_sum = [str(int) for int in summed] \n",
    "        str_of_sums = \",\". join(string_sum)\n",
    "    \n",
    "    return str_of_sums\n"
   ]
  },
  {
   "cell_type": "code",
   "execution_count": 7,
   "id": "f9bde88e-d9be-4b40-8b13-b8ffe3afd85d",
   "metadata": {},
   "outputs": [],
   "source": [
    "# lists to store the data before creation of the df\n",
    "my_seqs = []\n",
    "my_names = []\n",
    "groupA = []\n",
    "groupB = []\n",
    "\n",
    "# read in the sequences\n",
    "for seq_record in SeqIO.parse(tree, \"fasta\"):\n",
    "    my_seqs.append(str(seq_record.seq))\n",
    "    my_names.append(seq_record.id)\n",
    "    groupA.append(seq_record.id in Alist)\n",
    "    groupB.append(seq_record.id in Blist)\n",
    "# create the dataframe\n",
    "data = {'id': my_names, 'sequence': my_seqs, 'groupA': groupA, 'groupB': groupB}\n",
    "seq_df = pd.DataFrame(data)"
   ]
  },
  {
   "cell_type": "code",
   "execution_count": 8,
   "id": "94a75f05-36f8-4e33-ab9a-16b0d2075495",
   "metadata": {},
   "outputs": [],
   "source": [
    "# make a column that stores the properties\n",
    "# Long step\n",
    "seq_df[\"properties\"] = seq_df.apply(lambda row: get_properties(row['sequence']), axis=1)\n",
    "\n",
    "#print(seq_df.loc[0, 'properties'])"
   ]
  },
  {
   "cell_type": "markdown",
   "id": "bb451d2f",
   "metadata": {},
   "source": [
    "### SVC"
   ]
  },
  {
   "cell_type": "code",
   "execution_count": 9,
   "id": "25123eee",
   "metadata": {},
   "outputs": [],
   "source": [
    "col_list = []\n",
    "for i in range(19):\n",
    "    col_list.append('p'+str(i))  \n",
    "\n",
    "props = seq_df['properties'].str.split(',', expand=True)\n",
    "\n",
    "props.columns = col_list"
   ]
  },
  {
   "cell_type": "code",
   "execution_count": 10,
   "id": "c817dabb",
   "metadata": {},
   "outputs": [],
   "source": [
    "#### start with grsA #######\n",
    "# create a classifier (0 for non A, 1 for A)\n",
    "seq_df['classA'] = np.where(seq_df['groupA'], 'A', \"Non-A\")\n",
    "seq_df['classB'] = np.where(seq_df['groupB'], 'B', \"Non-B\")\n",
    "\n",
    "#for creating the classifier we will just use the distinct grsA and grsB groups\n",
    "class_df = pd.concat([seq_df[seq_df['groupA']==True],seq_df[seq_df['groupB']==True]])\n",
    "\n",
    "#X is the properties\n",
    "X = class_df['properties'].str.split(',', expand=True)\n",
    "y = list(class_df['classA'])"
   ]
  },
  {
   "cell_type": "markdown",
   "id": "e6ca4aa1",
   "metadata": {},
   "source": [
    "### Implementing tests"
   ]
  },
  {
   "cell_type": "code",
   "execution_count": 11,
   "id": "48aa09be",
   "metadata": {},
   "outputs": [
    {
     "name": "stdout",
     "output_type": "stream",
     "text": [
      "(78, 19)\n"
     ]
    }
   ],
   "source": [
    "print(X.shape)\n"
   ]
  },
  {
   "cell_type": "code",
   "execution_count": 12,
   "id": "4db391fd",
   "metadata": {},
   "outputs": [
    {
     "data": {
      "text/plain": [
       "<AxesSubplot:>"
      ]
     },
     "execution_count": 12,
     "metadata": {},
     "output_type": "execute_result"
    },
    {
     "data": {
      "image/png": "[encoded data removed]",
      "text/plain": [
       "<Figure size 432x288 with 1 Axes>"
      ]
     },
     "metadata": {
      "needs_background": "light"
     },
     "output_type": "display_data"
    }
   ],
   "source": [
    "# check that we have balanced data\n",
    "class_df['classA'].value_counts().sort_index().plot.bar()"
   ]
  },
  {
   "cell_type": "markdown",
   "id": "81843bd4",
   "metadata": {},
   "source": [
    "### Split the data for cross validation "
   ]
  },
  {
   "cell_type": "code",
   "execution_count": 13,
   "id": "c8d62bd4",
   "metadata": {},
   "outputs": [
    {
     "name": "stdout",
     "output_type": "stream",
     "text": [
      "(62, 19)\n",
      "(16, 19)\n"
     ]
    }
   ],
   "source": [
    "# splitting the data into training and test set so we can do cross validation\n",
    "X_train, X_test, y_train, y_test = train_test_split(X, \n",
    "                                                    y, \n",
    "                                                    test_size = 0.2, \n",
    "                                                    random_state=6, \n",
    "                                                    shuffle=True)\n",
    "\n",
    "print(X_train.shape)\n",
    "print(X_test.shape)"
   ]
  },
  {
   "cell_type": "markdown",
   "id": "848050b6",
   "metadata": {},
   "source": [
    "### Create the classifier"
   ]
  },
  {
   "cell_type": "code",
   "execution_count": 14,
   "id": "ca5ef5df",
   "metadata": {},
   "outputs": [
    {
     "data": {
      "text/plain": [
       "SVC()"
      ]
     },
     "execution_count": 14,
     "metadata": {},
     "output_type": "execute_result"
    }
   ],
   "source": [
    "## Multinomial Naive Bayes Classifier\n",
    "classifier = SVC()\n",
    "classifier.fit(X_train, y_train)\n"
   ]
  },
  {
   "cell_type": "code",
   "execution_count": 15,
   "id": "c2a87f75",
   "metadata": {},
   "outputs": [],
   "source": [
    "# try it on some new data\n",
    "y_pred = classifier.predict(X_test)"
   ]
  },
  {
   "cell_type": "markdown",
   "id": "7cbe13e1",
   "metadata": {},
   "source": [
    "### Create a confusion matrix"
   ]
  },
  {
   "cell_type": "code",
   "execution_count": 16,
   "id": "51f646d7",
   "metadata": {},
   "outputs": [
    {
     "name": "stdout",
     "output_type": "stream",
     "text": [
      "Confusion matrix \n",
      "\n",
      "Predicted  A  Non-A\n",
      "Actual             \n",
      "A          7      0\n",
      "Non-A      1      8\n",
      "accuracy = 0.938 \n",
      "precision = 0.945 \n",
      "recall = 0.938 \n",
      "f1 = 0.938\n",
      "0.96 accuracy with a standard deviation of 0.05\n"
     ]
    }
   ],
   "source": [
    "print(\"Confusion matrix \\n\")\n",
    "print(pd.crosstab(pd.Series(y_test, name='Actual'), pd.Series(y_pred, name='Predicted')))\n",
    "def get_metrics(y_test, y_predicted):\n",
    "    accuracy = accuracy_score(y_test, y_predicted)\n",
    "    precision = precision_score(y_test, y_predicted, average='weighted')\n",
    "    recall = recall_score(y_test, y_predicted, average='weighted')\n",
    "    f1 = f1_score(y_test, y_predicted, average='weighted')\n",
    "    return accuracy, precision, recall, f1\n",
    "accuracy, precision, recall, f1 = get_metrics(y_test, y_pred)\n",
    "print(\"accuracy = %.3f \\nprecision = %.3f \\nrecall = %.3f \\nf1 = %.3f\" % (accuracy, precision, recall, f1))\n",
    "cross_val = cross_val_score(classifier, X, y)\n",
    "print(\"%0.2f accuracy with a standard deviation of %0.2f\" % (cross_val.mean(), cross_val.std()))\n"
   ]
  },
  {
   "cell_type": "code",
   "execution_count": 17,
   "id": "7e2e0ee7-9128-4005-a2ed-da6184b44744",
   "metadata": {},
   "outputs": [],
   "source": [
    "#Scale it up\n",
    "y_pred = classifier.predict(props)"
   ]
  },
  {
   "cell_type": "code",
   "execution_count": 18,
   "id": "d5818ccd-b273-4294-9434-6dcedd6bc9a0",
   "metadata": {},
   "outputs": [],
   "source": [
    "predictions = pd.merge(pd.DataFrame(y_pred), seq_df, left_index = True, right_index = True)"
   ]
  },
  {
   "cell_type": "code",
   "execution_count": 19,
   "id": "e4e82beb-33cf-417f-80ee-565ce0a6ae55",
   "metadata": {},
   "outputs": [],
   "source": [
    "predictions.to_csv(os.path.join(outputs,'ml_grs_classificationv2.csv'))"
   ]
  },
  {
   "cell_type": "code",
   "execution_count": null,
   "id": "b561bd92-b35d-4574-b118-fbf6b45b8c26",
   "metadata": {},
   "outputs": [],
   "source": []
  }
 ],
 "metadata": {
  "interpreter": {
   "hash": "e534e48711db4d1e1c48977d0d14ff85b1f16d41bcc4fdfd88268a329b3c9d66"
  },
  "kernelspec": {
   "display_name": "mykernel",
   "language": "python",
   "name": "blast"
  },
  "language_info": {
   "codemirror_mode": {
    "name": "ipython",
    "version": 3
   },
   "file_extension": ".py",
   "mimetype": "text/x-python",
   "name": "python",
   "nbconvert_exporter": "python",
   "pygments_lexer": "ipython3",
   "version": "3.7.10"
  }
 },
 "nbformat": 4,
 "nbformat_minor": 5
}
